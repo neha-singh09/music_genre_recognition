{
  "nbformat": 4,
  "nbformat_minor": 0,
  "metadata": {
    "colab": {
      "name": "MusicGenreRecognition.ipynb",
      "provenance": [],
      "collapsed_sections": []
    },
    "kernelspec": {
      "name": "python3",
      "display_name": "Python 3"
    },
    "accelerator": "GPU"
  },
  "cells": [
    {
      "cell_type": "markdown",
      "metadata": {
        "id": "JZjeO0Pb41sI"
      },
      "source": [
        "# Import Libraries"
      ]
    },
    {
      "cell_type": "code",
      "metadata": {
        "id": "AV52pMWUdL8_",
        "outputId": "9995eb47-9d72-4825-b07b-800b2787911c",
        "colab": {
          "base_uri": "https://localhost:8080/",
          "height": 35
        }
      },
      "source": [
        "import os\n",
        "from google.colab import drive\n",
        "drive.mount('/content/gdrive')\n",
        "path = 'gdrive/My Drive/Colab Notebooks/'\n",
        "os.chdir(path)"
      ],
      "execution_count": null,
      "outputs": [
        {
          "output_type": "stream",
          "text": [
            "Mounted at /content/gdrive\n"
          ],
          "name": "stdout"
        }
      ]
    },
    {
      "cell_type": "code",
      "metadata": {
        "id": "6yBDdXrNq3Os"
      },
      "source": [
        "import os\n",
        "import numpy as np\n",
        "import pandas as pd\n",
        "import matplotlib.pyplot as plt\n",
        "import PIL\n",
        "from PIL import Image\n",
        "%matplotlib inline"
      ],
      "execution_count": null,
      "outputs": []
    },
    {
      "cell_type": "markdown",
      "metadata": {
        "id": "z12KbzQe4n4O"
      },
      "source": [
        "# Declare Directory\n"
      ]
    },
    {
      "cell_type": "code",
      "metadata": {
        "id": "Bn0Cq2vaKEDC"
      },
      "source": [
        "NOTEBOOK_DIRECTORY = os.getcwd()\n",
        "DATA_DIR = os.path.join(os.getcwd(), \"data\", \"data\")"
      ],
      "execution_count": null,
      "outputs": []
    },
    {
      "cell_type": "code",
      "metadata": {
        "id": "r4Zkp31959v-",
        "outputId": "592054e9-6870-4173-f2c0-3f0514dc1ec4",
        "colab": {
          "base_uri": "https://localhost:8080/",
          "height": 35
        }
      },
      "source": [
        "DATA_DIR\n",
        "# NOTEBOOK_DIRECTORY"
      ],
      "execution_count": null,
      "outputs": [
        {
          "output_type": "execute_result",
          "data": {
            "application/vnd.google.colaboratory.intrinsic+json": {
              "type": "string"
            },
            "text/plain": [
              "'/content/gdrive/My Drive/Colab Notebooks/data/data'"
            ]
          },
          "metadata": {
            "tags": []
          },
          "execution_count": 4
        }
      ]
    },
    {
      "cell_type": "markdown",
      "metadata": {
        "id": "JmoVoPbF7CKd"
      },
      "source": [
        "## Import Image as PIL Object"
      ]
    },
    {
      "cell_type": "code",
      "metadata": {
        "id": "_QUvJ3e_7OCo"
      },
      "source": [
        "from matplotlib import image\n",
        "\n",
        "def pil_object(DATA_DIR):\n",
        "  pil_obj_list = []\n",
        "  genre_list = []\n",
        "  for genre in os.listdir(DATA_DIR):\n",
        "    for file in os.listdir(os.path.join(DATA_DIR,genre)):\n",
        "      pil_obj = Image.open(os.path.join(DATA_DIR,genre,file))\n",
        "      pil_obj = pil_obj.resize(size=(28,28))\n",
        "      pil_obj_list.append(np.asarray(pil_obj))\n",
        "      genre_list.append(genre)\n",
        "  return pil_obj_list, genre_list\n",
        "     \n",
        "pil_obj_list, genre_list = pil_object(DATA_DIR)\n"
      ],
      "execution_count": null,
      "outputs": []
    },
    {
      "cell_type": "code",
      "metadata": {
        "id": "8Hfx7wjOBG-p",
        "outputId": "1d48060b-1b60-4cd4-a520-ef186a93e787",
        "colab": {
          "base_uri": "https://localhost:8080/",
          "height": 35
        }
      },
      "source": [
        "pil_obj_list[0].shape"
      ],
      "execution_count": null,
      "outputs": [
        {
          "output_type": "execute_result",
          "data": {
            "text/plain": [
              "(28, 28, 4)"
            ]
          },
          "metadata": {
            "tags": []
          },
          "execution_count": 128
        }
      ]
    },
    {
      "cell_type": "code",
      "metadata": {
        "id": "je0jOTIdH72O",
        "outputId": "56b28aa8-41d8-4da5-dada-d5a50ee3b000",
        "colab": {
          "base_uri": "https://localhost:8080/",
          "height": 45
        }
      },
      "source": [
        "Image.fromarray(pil_obj_list[0])"
      ],
      "execution_count": null,
      "outputs": [
        {
          "output_type": "execute_result",
          "data": {
            "image/png": "[encoded data removed]",
            "text/plain": [
              "<PIL.Image.Image image mode=RGBA size=28x28 at 0x7FDC4E52B828>"
            ]
          },
          "metadata": {
            "tags": []
          },
          "execution_count": 129
        }
      ]
    },
    {
      "cell_type": "markdown",
      "metadata": {
        "id": "qf3PWYA1JP3S"
      },
      "source": [
        "## Neural Network"
      ]
    },
    {
      "cell_type": "code",
      "metadata": {
        "id": "YuyLvVgOKzRW"
      },
      "source": [
        "from tensorflow import keras\n",
        "from keras.models import Sequential\n",
        "from keras.layers import Flatten, Dense"
      ],
      "execution_count": null,
      "outputs": []
    },
    {
      "cell_type": "code",
      "metadata": {
        "id": "qrPVjcn-Mvoy",
        "outputId": "0c8f271d-b788-437c-ec52-51836044971d",
        "colab": {
          "base_uri": "https://localhost:8080/",
          "height": 35
        }
      },
      "source": [
        "x = np.array(pil_obj_list)\n",
        "x = x/255.0\n",
        "\n",
        "genre_dict = {'Alternative':1, 'Blues':2, 'Country':3, 'Folk':4, 'Jazz':5, 'Metal':6, 'Pop':7, 'Rap':8, 'Rock':9, 'Soul':10}\n",
        "y = []\n",
        "for genre in genre_list:\n",
        "  y.append(genre_dict[genre])\n",
        "y = np.array(y)\n",
        "y = keras.utils.to_categorical(y)\n",
        "y.shape\n",
        "# x.shape\n"
      ],
      "execution_count": null,
      "outputs": [
        {
          "output_type": "execute_result",
          "data": {
            "text/plain": [
              "(995, 11)"
            ]
          },
          "metadata": {
            "tags": []
          },
          "execution_count": 131
        }
      ]
    },
    {
      "cell_type": "code",
      "metadata": {
        "id": "ihXwsSeTNVbS"
      },
      "source": [
        "model = Sequential()\n",
        "model.add(Flatten(input_shape=[28,28,4]))\n",
        "model.add(Dense(64,activation='relu'))\n",
        "model.add(Dense(32,activation='relu'))\n",
        "model.add(Dense(32,activation='relu'))\n",
        "model.add(Dense(11,activation='softmax'))"
      ],
      "execution_count": null,
      "outputs": []
    },
    {
      "cell_type": "code",
      "metadata": {
        "id": "xDDjq5GlStVY",
        "outputId": "c4060440-d4ba-4676-edaa-479345537ba7",
        "colab": {
          "base_uri": "https://localhost:8080/",
          "height": 329
        }
      },
      "source": [
        "model.summary()"
      ],
      "execution_count": null,
      "outputs": [
        {
          "output_type": "stream",
          "text": [
            "Model: \"sequential_16\"\n",
            "_________________________________________________________________\n",
            "Layer (type)                 Output Shape              Param #   \n",
            "=================================================================\n",
            "flatten_16 (Flatten)         (None, 3136)              0         \n",
            "_________________________________________________________________\n",
            "dense_55 (Dense)             (None, 64)                200768    \n",
            "_________________________________________________________________\n",
            "dense_56 (Dense)             (None, 32)                2080      \n",
            "_________________________________________________________________\n",
            "dense_57 (Dense)             (None, 32)                1056      \n",
            "_________________________________________________________________\n",
            "dense_58 (Dense)             (None, 11)                363       \n",
            "=================================================================\n",
            "Total params: 204,267\n",
            "Trainable params: 204,267\n",
            "Non-trainable params: 0\n",
            "_________________________________________________________________\n"
          ],
          "name": "stdout"
        }
      ]
    },
    {
      "cell_type": "code",
      "metadata": {
        "id": "y2pkl3BaTPzD",
        "outputId": "8d359d01-7107-4bb6-b884-73918d717b96",
        "colab": {
          "base_uri": "https://localhost:8080/",
          "height": 104
        }
      },
      "source": [
        "model.layers"
      ],
      "execution_count": null,
      "outputs": [
        {
          "output_type": "execute_result",
          "data": {
            "text/plain": [
              "[<tensorflow.python.keras.layers.core.Flatten at 0x7fdc5e6380f0>,\n",
              " <tensorflow.python.keras.layers.core.Dense at 0x7fdc5e6384e0>,\n",
              " <tensorflow.python.keras.layers.core.Dense at 0x7fdc5e638320>,\n",
              " <tensorflow.python.keras.layers.core.Dense at 0x7fdc4e526630>,\n",
              " <tensorflow.python.keras.layers.core.Dense at 0x7fdc4e5266a0>]"
            ]
          },
          "metadata": {
            "tags": []
          },
          "execution_count": 134
        }
      ]
    },
    {
      "cell_type": "code",
      "metadata": {
        "id": "2tS3dN_JTZ1T"
      },
      "source": [
        "opt = keras.optimizers.Adam(learning_rate=0.000001)\n",
        "model.compile(loss='categorical_crossentropy',optimizer=opt,metrics=['accuracy'])"
      ],
      "execution_count": null,
      "outputs": []
    },
    {
      "cell_type": "code",
      "metadata": {
        "id": "dJdrKSEbT5QL",
        "outputId": "c24519a7-e74e-4c47-ffb2-401de4f62ea2",
        "colab": {
          "base_uri": "https://localhost:8080/",
          "height": 1000
        }
      },
      "source": [
        "history = model.fit(x, y, batch_size=10, epochs=200, validation_split=0.15)"
      ],
      "execution_count": null,
      "outputs": [
        {
          "output_type": "stream",
          "text": [
            "Epoch 1/200\n",
            "85/85 [==============================] - 0s 4ms/step - loss: 2.5100 - accuracy: 0.1172 - val_loss: 2.5867 - val_accuracy: 0.0000e+00\n",
            "Epoch 2/200\n",
            "85/85 [==============================] - 0s 3ms/step - loss: 2.4745 - accuracy: 0.1172 - val_loss: 2.5596 - val_accuracy: 0.0000e+00\n",
            "Epoch 3/200\n",
            "85/85 [==============================] - 0s 3ms/step - loss: 2.4530 - accuracy: 0.1172 - val_loss: 2.5415 - val_accuracy: 0.0000e+00\n",
            "Epoch 4/200\n",
            "85/85 [==============================] - 0s 3ms/step - loss: 2.4403 - accuracy: 0.1172 - val_loss: 2.5291 - val_accuracy: 0.0000e+00\n",
            "Epoch 5/200\n",
            "85/85 [==============================] - 0s 3ms/step - loss: 2.4312 - accuracy: 0.1172 - val_loss: 2.5163 - val_accuracy: 0.0000e+00\n",
            "Epoch 6/200\n",
            "85/85 [==============================] - 0s 3ms/step - loss: 2.4246 - accuracy: 0.1172 - val_loss: 2.5081 - val_accuracy: 0.0000e+00\n",
            "Epoch 7/200\n",
            "85/85 [==============================] - 0s 3ms/step - loss: 2.4198 - accuracy: 0.1172 - val_loss: 2.4984 - val_accuracy: 0.0000e+00\n",
            "Epoch 8/200\n",
            "85/85 [==============================] - 0s 3ms/step - loss: 2.4159 - accuracy: 0.1172 - val_loss: 2.4959 - val_accuracy: 0.0000e+00\n",
            "Epoch 9/200\n",
            "85/85 [==============================] - 0s 3ms/step - loss: 2.4131 - accuracy: 0.1172 - val_loss: 2.4933 - val_accuracy: 0.0000e+00\n",
            "Epoch 10/200\n",
            "85/85 [==============================] - 0s 3ms/step - loss: 2.4102 - accuracy: 0.1172 - val_loss: 2.4910 - val_accuracy: 0.0000e+00\n",
            "Epoch 11/200\n",
            "85/85 [==============================] - 0s 3ms/step - loss: 2.4078 - accuracy: 0.1172 - val_loss: 2.4889 - val_accuracy: 0.0000e+00\n",
            "Epoch 12/200\n",
            "85/85 [==============================] - 0s 3ms/step - loss: 2.4057 - accuracy: 0.1172 - val_loss: 2.4873 - val_accuracy: 0.0000e+00\n",
            "Epoch 13/200\n",
            "85/85 [==============================] - 0s 3ms/step - loss: 2.4036 - accuracy: 0.1172 - val_loss: 2.4838 - val_accuracy: 0.0000e+00\n",
            "Epoch 14/200\n",
            "85/85 [==============================] - 0s 3ms/step - loss: 2.4016 - accuracy: 0.1172 - val_loss: 2.4820 - val_accuracy: 0.0000e+00\n",
            "Epoch 15/200\n",
            "85/85 [==============================] - 0s 3ms/step - loss: 2.3994 - accuracy: 0.1172 - val_loss: 2.4832 - val_accuracy: 0.0000e+00\n",
            "Epoch 16/200\n",
            "85/85 [==============================] - 0s 3ms/step - loss: 2.3975 - accuracy: 0.1172 - val_loss: 2.4812 - val_accuracy: 0.0000e+00\n",
            "Epoch 17/200\n",
            "85/85 [==============================] - 0s 3ms/step - loss: 2.3951 - accuracy: 0.1172 - val_loss: 2.4808 - val_accuracy: 0.0000e+00\n",
            "Epoch 18/200\n",
            "85/85 [==============================] - 0s 3ms/step - loss: 2.3930 - accuracy: 0.1172 - val_loss: 2.4801 - val_accuracy: 0.0000e+00\n",
            "Epoch 19/200\n",
            "85/85 [==============================] - 0s 3ms/step - loss: 2.3911 - accuracy: 0.1172 - val_loss: 2.4824 - val_accuracy: 0.0000e+00\n",
            "Epoch 20/200\n",
            "85/85 [==============================] - 0s 3ms/step - loss: 2.3893 - accuracy: 0.1172 - val_loss: 2.4805 - val_accuracy: 0.0000e+00\n",
            "Epoch 21/200\n",
            "85/85 [==============================] - 0s 3ms/step - loss: 2.3876 - accuracy: 0.1172 - val_loss: 2.4776 - val_accuracy: 0.0000e+00\n",
            "Epoch 22/200\n",
            "85/85 [==============================] - 0s 3ms/step - loss: 2.3862 - accuracy: 0.1160 - val_loss: 2.4743 - val_accuracy: 0.0000e+00\n",
            "Epoch 23/200\n",
            "85/85 [==============================] - 0s 3ms/step - loss: 2.3848 - accuracy: 0.1160 - val_loss: 2.4742 - val_accuracy: 0.0000e+00\n",
            "Epoch 24/200\n",
            "85/85 [==============================] - 0s 3ms/step - loss: 2.3836 - accuracy: 0.1160 - val_loss: 2.4763 - val_accuracy: 0.0000e+00\n",
            "Epoch 25/200\n",
            "85/85 [==============================] - 0s 3ms/step - loss: 2.3826 - accuracy: 0.1160 - val_loss: 2.4742 - val_accuracy: 0.0000e+00\n",
            "Epoch 26/200\n",
            "85/85 [==============================] - 0s 3ms/step - loss: 2.3817 - accuracy: 0.1160 - val_loss: 2.4736 - val_accuracy: 0.0000e+00\n",
            "Epoch 27/200\n",
            "85/85 [==============================] - 0s 3ms/step - loss: 2.3808 - accuracy: 0.1160 - val_loss: 2.4733 - val_accuracy: 0.0000e+00\n",
            "Epoch 28/200\n",
            "85/85 [==============================] - 0s 3ms/step - loss: 2.3801 - accuracy: 0.1160 - val_loss: 2.4733 - val_accuracy: 0.0000e+00\n",
            "Epoch 29/200\n",
            "85/85 [==============================] - 0s 3ms/step - loss: 2.3795 - accuracy: 0.1160 - val_loss: 2.4727 - val_accuracy: 0.0000e+00\n",
            "Epoch 30/200\n",
            "85/85 [==============================] - 0s 3ms/step - loss: 2.3790 - accuracy: 0.1160 - val_loss: 2.4735 - val_accuracy: 0.0000e+00\n",
            "Epoch 31/200\n",
            "85/85 [==============================] - 0s 3ms/step - loss: 2.3786 - accuracy: 0.1160 - val_loss: 2.4759 - val_accuracy: 0.0000e+00\n",
            "Epoch 32/200\n",
            "85/85 [==============================] - 0s 3ms/step - loss: 2.3777 - accuracy: 0.1160 - val_loss: 2.4750 - val_accuracy: 0.0000e+00\n",
            "Epoch 33/200\n",
            "85/85 [==============================] - 0s 3ms/step - loss: 2.3773 - accuracy: 0.1160 - val_loss: 2.4748 - val_accuracy: 0.0000e+00\n",
            "Epoch 34/200\n",
            "85/85 [==============================] - 0s 3ms/step - loss: 2.3766 - accuracy: 0.1160 - val_loss: 2.4773 - val_accuracy: 0.0000e+00\n",
            "Epoch 35/200\n",
            "85/85 [==============================] - 0s 3ms/step - loss: 2.3760 - accuracy: 0.1160 - val_loss: 2.4762 - val_accuracy: 0.0000e+00\n",
            "Epoch 36/200\n",
            "85/85 [==============================] - 0s 3ms/step - loss: 2.3756 - accuracy: 0.1160 - val_loss: 2.4770 - val_accuracy: 0.0000e+00\n",
            "Epoch 37/200\n",
            "85/85 [==============================] - 0s 3ms/step - loss: 2.3750 - accuracy: 0.1160 - val_loss: 2.4759 - val_accuracy: 0.0067\n",
            "Epoch 38/200\n",
            "85/85 [==============================] - 0s 3ms/step - loss: 2.3744 - accuracy: 0.1160 - val_loss: 2.4743 - val_accuracy: 0.0067\n",
            "Epoch 39/200\n",
            "85/85 [==============================] - 0s 3ms/step - loss: 2.3742 - accuracy: 0.1160 - val_loss: 2.4696 - val_accuracy: 0.0067\n",
            "Epoch 40/200\n",
            "85/85 [==============================] - 0s 3ms/step - loss: 2.3737 - accuracy: 0.1160 - val_loss: 2.4734 - val_accuracy: 0.0067\n",
            "Epoch 41/200\n",
            "85/85 [==============================] - 0s 3ms/step - loss: 2.3730 - accuracy: 0.1160 - val_loss: 2.4711 - val_accuracy: 0.0067\n",
            "Epoch 42/200\n",
            "85/85 [==============================] - 0s 3ms/step - loss: 2.3724 - accuracy: 0.1160 - val_loss: 2.4691 - val_accuracy: 0.0133\n",
            "Epoch 43/200\n",
            "85/85 [==============================] - 0s 3ms/step - loss: 2.3720 - accuracy: 0.1172 - val_loss: 2.4697 - val_accuracy: 0.0133\n",
            "Epoch 44/200\n",
            "85/85 [==============================] - 0s 3ms/step - loss: 2.3715 - accuracy: 0.1172 - val_loss: 2.4690 - val_accuracy: 0.0133\n",
            "Epoch 45/200\n",
            "85/85 [==============================] - 0s 3ms/step - loss: 2.3711 - accuracy: 0.1172 - val_loss: 2.4668 - val_accuracy: 0.0133\n",
            "Epoch 46/200\n",
            "85/85 [==============================] - 0s 3ms/step - loss: 2.3706 - accuracy: 0.1172 - val_loss: 2.4668 - val_accuracy: 0.0133\n",
            "Epoch 47/200\n",
            "85/85 [==============================] - 0s 3ms/step - loss: 2.3703 - accuracy: 0.1172 - val_loss: 2.4633 - val_accuracy: 0.0133\n",
            "Epoch 48/200\n",
            "85/85 [==============================] - 0s 3ms/step - loss: 2.3697 - accuracy: 0.1172 - val_loss: 2.4624 - val_accuracy: 0.0133\n",
            "Epoch 49/200\n",
            "85/85 [==============================] - 0s 3ms/step - loss: 2.3691 - accuracy: 0.1172 - val_loss: 2.4630 - val_accuracy: 0.0133\n",
            "Epoch 50/200\n",
            "85/85 [==============================] - 0s 3ms/step - loss: 2.3686 - accuracy: 0.1172 - val_loss: 2.4622 - val_accuracy: 0.0133\n",
            "Epoch 51/200\n",
            "85/85 [==============================] - 0s 3ms/step - loss: 2.3680 - accuracy: 0.1172 - val_loss: 2.4623 - val_accuracy: 0.0133\n",
            "Epoch 52/200\n",
            "85/85 [==============================] - 0s 3ms/step - loss: 2.3675 - accuracy: 0.1172 - val_loss: 2.4615 - val_accuracy: 0.0133\n",
            "Epoch 53/200\n",
            "85/85 [==============================] - 0s 3ms/step - loss: 2.3671 - accuracy: 0.1183 - val_loss: 2.4596 - val_accuracy: 0.0133\n",
            "Epoch 54/200\n",
            "85/85 [==============================] - 0s 3ms/step - loss: 2.3666 - accuracy: 0.1183 - val_loss: 2.4593 - val_accuracy: 0.0133\n",
            "Epoch 55/200\n",
            "85/85 [==============================] - 0s 3ms/step - loss: 2.3661 - accuracy: 0.1183 - val_loss: 2.4576 - val_accuracy: 0.0133\n",
            "Epoch 56/200\n",
            "85/85 [==============================] - 0s 3ms/step - loss: 2.3656 - accuracy: 0.1183 - val_loss: 2.4608 - val_accuracy: 0.0133\n",
            "Epoch 57/200\n",
            "85/85 [==============================] - 0s 3ms/step - loss: 2.3652 - accuracy: 0.1183 - val_loss: 2.4614 - val_accuracy: 0.0133\n",
            "Epoch 58/200\n",
            "85/85 [==============================] - 0s 3ms/step - loss: 2.3648 - accuracy: 0.1183 - val_loss: 2.4593 - val_accuracy: 0.0133\n",
            "Epoch 59/200\n",
            "85/85 [==============================] - 0s 3ms/step - loss: 2.3644 - accuracy: 0.1207 - val_loss: 2.4572 - val_accuracy: 0.0133\n",
            "Epoch 60/200\n",
            "85/85 [==============================] - 0s 3ms/step - loss: 2.3640 - accuracy: 0.1195 - val_loss: 2.4571 - val_accuracy: 0.0133\n",
            "Epoch 61/200\n",
            "85/85 [==============================] - 0s 3ms/step - loss: 2.3635 - accuracy: 0.1195 - val_loss: 2.4571 - val_accuracy: 0.0133\n",
            "Epoch 62/200\n",
            "85/85 [==============================] - 0s 3ms/step - loss: 2.3631 - accuracy: 0.1231 - val_loss: 2.4521 - val_accuracy: 0.0133\n",
            "Epoch 63/200\n",
            "85/85 [==============================] - 0s 3ms/step - loss: 2.3626 - accuracy: 0.1243 - val_loss: 2.4539 - val_accuracy: 0.0133\n",
            "Epoch 64/200\n",
            "85/85 [==============================] - 0s 3ms/step - loss: 2.3623 - accuracy: 0.1231 - val_loss: 2.4547 - val_accuracy: 0.0067\n",
            "Epoch 65/200\n",
            "85/85 [==============================] - 0s 3ms/step - loss: 2.3620 - accuracy: 0.1243 - val_loss: 2.4528 - val_accuracy: 0.0067\n",
            "Epoch 66/200\n",
            "85/85 [==============================] - 0s 3ms/step - loss: 2.3615 - accuracy: 0.1243 - val_loss: 2.4550 - val_accuracy: 0.0067\n",
            "Epoch 67/200\n",
            "85/85 [==============================] - 0s 3ms/step - loss: 2.3610 - accuracy: 0.1243 - val_loss: 2.4550 - val_accuracy: 0.0067\n",
            "Epoch 68/200\n",
            "85/85 [==============================] - 0s 3ms/step - loss: 2.3608 - accuracy: 0.1243 - val_loss: 2.4538 - val_accuracy: 0.0067\n",
            "Epoch 69/200\n",
            "85/85 [==============================] - 0s 3ms/step - loss: 2.3603 - accuracy: 0.1243 - val_loss: 2.4536 - val_accuracy: 0.0067\n",
            "Epoch 70/200\n",
            "85/85 [==============================] - 0s 3ms/step - loss: 2.3600 - accuracy: 0.1254 - val_loss: 2.4529 - val_accuracy: 0.0133\n",
            "Epoch 71/200\n",
            "85/85 [==============================] - 0s 3ms/step - loss: 2.3595 - accuracy: 0.1266 - val_loss: 2.4508 - val_accuracy: 0.0133\n",
            "Epoch 72/200\n",
            "85/85 [==============================] - 0s 3ms/step - loss: 2.3591 - accuracy: 0.1266 - val_loss: 2.4526 - val_accuracy: 0.0067\n",
            "Epoch 73/200\n",
            "85/85 [==============================] - 0s 3ms/step - loss: 2.3588 - accuracy: 0.1266 - val_loss: 2.4521 - val_accuracy: 0.0133\n",
            "Epoch 74/200\n",
            "85/85 [==============================] - 0s 3ms/step - loss: 2.3585 - accuracy: 0.1266 - val_loss: 2.4520 - val_accuracy: 0.0067\n",
            "Epoch 75/200\n",
            "85/85 [==============================] - 0s 3ms/step - loss: 2.3579 - accuracy: 0.1266 - val_loss: 2.4520 - val_accuracy: 0.0133\n",
            "Epoch 76/200\n",
            "85/85 [==============================] - 0s 3ms/step - loss: 2.3577 - accuracy: 0.1278 - val_loss: 2.4517 - val_accuracy: 0.0133\n",
            "Epoch 77/200\n",
            "85/85 [==============================] - 0s 3ms/step - loss: 2.3573 - accuracy: 0.1278 - val_loss: 2.4517 - val_accuracy: 0.0133\n",
            "Epoch 78/200\n",
            "85/85 [==============================] - 0s 3ms/step - loss: 2.3569 - accuracy: 0.1266 - val_loss: 2.4521 - val_accuracy: 0.0133\n",
            "Epoch 79/200\n",
            "85/85 [==============================] - 0s 3ms/step - loss: 2.3564 - accuracy: 0.1278 - val_loss: 2.4538 - val_accuracy: 0.0133\n",
            "Epoch 80/200\n",
            "85/85 [==============================] - 0s 3ms/step - loss: 2.3561 - accuracy: 0.1278 - val_loss: 2.4527 - val_accuracy: 0.0133\n",
            "Epoch 81/200\n",
            "85/85 [==============================] - 0s 3ms/step - loss: 2.3558 - accuracy: 0.1290 - val_loss: 2.4527 - val_accuracy: 0.0133\n",
            "Epoch 82/200\n",
            "85/85 [==============================] - 0s 3ms/step - loss: 2.3554 - accuracy: 0.1290 - val_loss: 2.4538 - val_accuracy: 0.0133\n",
            "Epoch 83/200\n",
            "85/85 [==============================] - 0s 3ms/step - loss: 2.3550 - accuracy: 0.1325 - val_loss: 2.4535 - val_accuracy: 0.0133\n",
            "Epoch 84/200\n",
            "85/85 [==============================] - 0s 3ms/step - loss: 2.3547 - accuracy: 0.1278 - val_loss: 2.4530 - val_accuracy: 0.0133\n",
            "Epoch 85/200\n",
            "85/85 [==============================] - 0s 3ms/step - loss: 2.3545 - accuracy: 0.1325 - val_loss: 2.4519 - val_accuracy: 0.0133\n",
            "Epoch 86/200\n",
            "85/85 [==============================] - 0s 3ms/step - loss: 2.3540 - accuracy: 0.1314 - val_loss: 2.4554 - val_accuracy: 0.0133\n",
            "Epoch 87/200\n",
            "85/85 [==============================] - 0s 3ms/step - loss: 2.3537 - accuracy: 0.1302 - val_loss: 2.4560 - val_accuracy: 0.0133\n",
            "Epoch 88/200\n",
            "85/85 [==============================] - 0s 3ms/step - loss: 2.3534 - accuracy: 0.1314 - val_loss: 2.4552 - val_accuracy: 0.0133\n",
            "Epoch 89/200\n",
            "85/85 [==============================] - 0s 3ms/step - loss: 2.3530 - accuracy: 0.1302 - val_loss: 2.4536 - val_accuracy: 0.0133\n",
            "Epoch 90/200\n",
            "85/85 [==============================] - 0s 3ms/step - loss: 2.3527 - accuracy: 0.1314 - val_loss: 2.4537 - val_accuracy: 0.0133\n",
            "Epoch 91/200\n",
            "85/85 [==============================] - 0s 3ms/step - loss: 2.3524 - accuracy: 0.1325 - val_loss: 2.4541 - val_accuracy: 0.0133\n",
            "Epoch 92/200\n",
            "85/85 [==============================] - 0s 3ms/step - loss: 2.3521 - accuracy: 0.1302 - val_loss: 2.4559 - val_accuracy: 0.0133\n",
            "Epoch 93/200\n",
            "85/85 [==============================] - 0s 3ms/step - loss: 2.3517 - accuracy: 0.1302 - val_loss: 2.4550 - val_accuracy: 0.0067\n",
            "Epoch 94/200\n",
            "85/85 [==============================] - 0s 3ms/step - loss: 2.3514 - accuracy: 0.1302 - val_loss: 2.4557 - val_accuracy: 0.0067\n",
            "Epoch 95/200\n",
            "85/85 [==============================] - 0s 3ms/step - loss: 2.3510 - accuracy: 0.1314 - val_loss: 2.4567 - val_accuracy: 0.0067\n",
            "Epoch 96/200\n",
            "85/85 [==============================] - 0s 3ms/step - loss: 2.3508 - accuracy: 0.1325 - val_loss: 2.4575 - val_accuracy: 0.0067\n",
            "Epoch 97/200\n",
            "85/85 [==============================] - 0s 3ms/step - loss: 2.3506 - accuracy: 0.1325 - val_loss: 2.4559 - val_accuracy: 0.0067\n",
            "Epoch 98/200\n",
            "85/85 [==============================] - 0s 3ms/step - loss: 2.3502 - accuracy: 0.1325 - val_loss: 2.4568 - val_accuracy: 0.0067\n",
            "Epoch 99/200\n",
            "85/85 [==============================] - 0s 3ms/step - loss: 2.3498 - accuracy: 0.1325 - val_loss: 2.4591 - val_accuracy: 0.0067\n",
            "Epoch 100/200\n",
            "85/85 [==============================] - 0s 3ms/step - loss: 2.3495 - accuracy: 0.1325 - val_loss: 2.4576 - val_accuracy: 0.0067\n",
            "Epoch 101/200\n",
            "85/85 [==============================] - 0s 3ms/step - loss: 2.3492 - accuracy: 0.1337 - val_loss: 2.4569 - val_accuracy: 0.0067\n",
            "Epoch 102/200\n",
            "85/85 [==============================] - 0s 3ms/step - loss: 2.3489 - accuracy: 0.1325 - val_loss: 2.4584 - val_accuracy: 0.0067\n",
            "Epoch 103/200\n",
            "85/85 [==============================] - 0s 3ms/step - loss: 2.3486 - accuracy: 0.1325 - val_loss: 2.4577 - val_accuracy: 0.0067\n",
            "Epoch 104/200\n",
            "85/85 [==============================] - 0s 3ms/step - loss: 2.3483 - accuracy: 0.1314 - val_loss: 2.4595 - val_accuracy: 0.0000e+00\n",
            "Epoch 105/200\n",
            "85/85 [==============================] - 0s 3ms/step - loss: 2.3479 - accuracy: 0.1325 - val_loss: 2.4593 - val_accuracy: 0.0000e+00\n",
            "Epoch 106/200\n",
            "85/85 [==============================] - 0s 3ms/step - loss: 2.3477 - accuracy: 0.1337 - val_loss: 2.4599 - val_accuracy: 0.0067\n",
            "Epoch 107/200\n",
            "85/85 [==============================] - 0s 3ms/step - loss: 2.3474 - accuracy: 0.1337 - val_loss: 2.4592 - val_accuracy: 0.0000e+00\n",
            "Epoch 108/200\n",
            "85/85 [==============================] - 0s 3ms/step - loss: 2.3472 - accuracy: 0.1349 - val_loss: 2.4598 - val_accuracy: 0.0000e+00\n",
            "Epoch 109/200\n",
            "85/85 [==============================] - 0s 3ms/step - loss: 2.3469 - accuracy: 0.1349 - val_loss: 2.4597 - val_accuracy: 0.0000e+00\n",
            "Epoch 110/200\n",
            "85/85 [==============================] - 0s 3ms/step - loss: 2.3465 - accuracy: 0.1337 - val_loss: 2.4603 - val_accuracy: 0.0000e+00\n",
            "Epoch 111/200\n",
            "85/85 [==============================] - 0s 3ms/step - loss: 2.3463 - accuracy: 0.1337 - val_loss: 2.4581 - val_accuracy: 0.0000e+00\n",
            "Epoch 112/200\n",
            "85/85 [==============================] - 0s 3ms/step - loss: 2.3459 - accuracy: 0.1337 - val_loss: 2.4585 - val_accuracy: 0.0000e+00\n",
            "Epoch 113/200\n",
            "85/85 [==============================] - 0s 3ms/step - loss: 2.3457 - accuracy: 0.1349 - val_loss: 2.4601 - val_accuracy: 0.0000e+00\n",
            "Epoch 114/200\n",
            "85/85 [==============================] - 0s 3ms/step - loss: 2.3455 - accuracy: 0.1337 - val_loss: 2.4626 - val_accuracy: 0.0000e+00\n",
            "Epoch 115/200\n",
            "85/85 [==============================] - 0s 3ms/step - loss: 2.3451 - accuracy: 0.1337 - val_loss: 2.4594 - val_accuracy: 0.0000e+00\n",
            "Epoch 116/200\n",
            "85/85 [==============================] - 0s 3ms/step - loss: 2.3449 - accuracy: 0.1349 - val_loss: 2.4616 - val_accuracy: 0.0000e+00\n",
            "Epoch 117/200\n",
            "85/85 [==============================] - 0s 3ms/step - loss: 2.3446 - accuracy: 0.1349 - val_loss: 2.4619 - val_accuracy: 0.0000e+00\n",
            "Epoch 118/200\n",
            "85/85 [==============================] - 0s 3ms/step - loss: 2.3443 - accuracy: 0.1337 - val_loss: 2.4618 - val_accuracy: 0.0000e+00\n",
            "Epoch 119/200\n",
            "85/85 [==============================] - 0s 3ms/step - loss: 2.3440 - accuracy: 0.1337 - val_loss: 2.4595 - val_accuracy: 0.0000e+00\n",
            "Epoch 120/200\n",
            "85/85 [==============================] - 0s 3ms/step - loss: 2.3438 - accuracy: 0.1337 - val_loss: 2.4623 - val_accuracy: 0.0000e+00\n",
            "Epoch 121/200\n",
            "85/85 [==============================] - 0s 3ms/step - loss: 2.3436 - accuracy: 0.1349 - val_loss: 2.4617 - val_accuracy: 0.0000e+00\n",
            "Epoch 122/200\n",
            "85/85 [==============================] - 0s 3ms/step - loss: 2.3435 - accuracy: 0.1349 - val_loss: 2.4622 - val_accuracy: 0.0000e+00\n",
            "Epoch 123/200\n",
            "85/85 [==============================] - 0s 3ms/step - loss: 2.3430 - accuracy: 0.1349 - val_loss: 2.4622 - val_accuracy: 0.0000e+00\n",
            "Epoch 124/200\n",
            "85/85 [==============================] - 0s 3ms/step - loss: 2.3426 - accuracy: 0.1337 - val_loss: 2.4630 - val_accuracy: 0.0000e+00\n",
            "Epoch 125/200\n",
            "85/85 [==============================] - 0s 3ms/step - loss: 2.3423 - accuracy: 0.1349 - val_loss: 2.4652 - val_accuracy: 0.0000e+00\n",
            "Epoch 126/200\n",
            "85/85 [==============================] - 0s 3ms/step - loss: 2.3420 - accuracy: 0.1349 - val_loss: 2.4639 - val_accuracy: 0.0000e+00\n",
            "Epoch 127/200\n",
            "85/85 [==============================] - 0s 3ms/step - loss: 2.3418 - accuracy: 0.1337 - val_loss: 2.4617 - val_accuracy: 0.0000e+00\n",
            "Epoch 128/200\n",
            "85/85 [==============================] - 0s 3ms/step - loss: 2.3416 - accuracy: 0.1349 - val_loss: 2.4634 - val_accuracy: 0.0000e+00\n",
            "Epoch 129/200\n",
            "85/85 [==============================] - 0s 3ms/step - loss: 2.3414 - accuracy: 0.1349 - val_loss: 2.4640 - val_accuracy: 0.0000e+00\n",
            "Epoch 130/200\n",
            "85/85 [==============================] - 0s 3ms/step - loss: 2.3410 - accuracy: 0.1337 - val_loss: 2.4634 - val_accuracy: 0.0000e+00\n",
            "Epoch 131/200\n",
            "85/85 [==============================] - 0s 3ms/step - loss: 2.3408 - accuracy: 0.1349 - val_loss: 2.4654 - val_accuracy: 0.0000e+00\n",
            "Epoch 132/200\n",
            "85/85 [==============================] - 0s 3ms/step - loss: 2.3405 - accuracy: 0.1349 - val_loss: 2.4650 - val_accuracy: 0.0000e+00\n",
            "Epoch 133/200\n",
            "85/85 [==============================] - 0s 3ms/step - loss: 2.3402 - accuracy: 0.1337 - val_loss: 2.4673 - val_accuracy: 0.0000e+00\n",
            "Epoch 134/200\n",
            "85/85 [==============================] - 0s 3ms/step - loss: 2.3399 - accuracy: 0.1337 - val_loss: 2.4660 - val_accuracy: 0.0000e+00\n",
            "Epoch 135/200\n",
            "85/85 [==============================] - 0s 3ms/step - loss: 2.3397 - accuracy: 0.1337 - val_loss: 2.4676 - val_accuracy: 0.0000e+00\n",
            "Epoch 136/200\n",
            "85/85 [==============================] - 0s 3ms/step - loss: 2.3393 - accuracy: 0.1349 - val_loss: 2.4691 - val_accuracy: 0.0000e+00\n",
            "Epoch 137/200\n",
            "85/85 [==============================] - 0s 3ms/step - loss: 2.3391 - accuracy: 0.1349 - val_loss: 2.4693 - val_accuracy: 0.0000e+00\n",
            "Epoch 138/200\n",
            "85/85 [==============================] - 0s 3ms/step - loss: 2.3389 - accuracy: 0.1349 - val_loss: 2.4672 - val_accuracy: 0.0000e+00\n",
            "Epoch 139/200\n",
            "85/85 [==============================] - 0s 3ms/step - loss: 2.3386 - accuracy: 0.1349 - val_loss: 2.4663 - val_accuracy: 0.0000e+00\n",
            "Epoch 140/200\n",
            "85/85 [==============================] - 0s 3ms/step - loss: 2.3385 - accuracy: 0.1337 - val_loss: 2.4659 - val_accuracy: 0.0000e+00\n",
            "Epoch 141/200\n",
            "85/85 [==============================] - 0s 3ms/step - loss: 2.3381 - accuracy: 0.1337 - val_loss: 2.4696 - val_accuracy: 0.0000e+00\n",
            "Epoch 142/200\n",
            "85/85 [==============================] - 0s 3ms/step - loss: 2.3379 - accuracy: 0.1385 - val_loss: 2.4708 - val_accuracy: 0.0000e+00\n",
            "Epoch 143/200\n",
            "85/85 [==============================] - 0s 3ms/step - loss: 2.3375 - accuracy: 0.1349 - val_loss: 2.4698 - val_accuracy: 0.0000e+00\n",
            "Epoch 144/200\n",
            "85/85 [==============================] - 0s 3ms/step - loss: 2.3373 - accuracy: 0.1349 - val_loss: 2.4705 - val_accuracy: 0.0000e+00\n",
            "Epoch 145/200\n",
            "85/85 [==============================] - 0s 3ms/step - loss: 2.3371 - accuracy: 0.1361 - val_loss: 2.4699 - val_accuracy: 0.0000e+00\n",
            "Epoch 146/200\n",
            "85/85 [==============================] - 0s 3ms/step - loss: 2.3367 - accuracy: 0.1349 - val_loss: 2.4717 - val_accuracy: 0.0000e+00\n",
            "Epoch 147/200\n",
            "85/85 [==============================] - 0s 3ms/step - loss: 2.3365 - accuracy: 0.1349 - val_loss: 2.4702 - val_accuracy: 0.0000e+00\n",
            "Epoch 148/200\n",
            "85/85 [==============================] - 0s 3ms/step - loss: 2.3362 - accuracy: 0.1361 - val_loss: 2.4699 - val_accuracy: 0.0000e+00\n",
            "Epoch 149/200\n",
            "85/85 [==============================] - 0s 3ms/step - loss: 2.3359 - accuracy: 0.1373 - val_loss: 2.4707 - val_accuracy: 0.0000e+00\n",
            "Epoch 150/200\n",
            "85/85 [==============================] - 0s 3ms/step - loss: 2.3356 - accuracy: 0.1373 - val_loss: 2.4697 - val_accuracy: 0.0000e+00\n",
            "Epoch 151/200\n",
            "85/85 [==============================] - 0s 3ms/step - loss: 2.3354 - accuracy: 0.1349 - val_loss: 2.4734 - val_accuracy: 0.0000e+00\n",
            "Epoch 152/200\n",
            "85/85 [==============================] - 0s 3ms/step - loss: 2.3351 - accuracy: 0.1361 - val_loss: 2.4719 - val_accuracy: 0.0000e+00\n",
            "Epoch 153/200\n",
            "85/85 [==============================] - 0s 3ms/step - loss: 2.3348 - accuracy: 0.1373 - val_loss: 2.4749 - val_accuracy: 0.0000e+00\n",
            "Epoch 154/200\n",
            "85/85 [==============================] - 0s 3ms/step - loss: 2.3345 - accuracy: 0.1385 - val_loss: 2.4749 - val_accuracy: 0.0000e+00\n",
            "Epoch 155/200\n",
            "85/85 [==============================] - 0s 3ms/step - loss: 2.3343 - accuracy: 0.1349 - val_loss: 2.4741 - val_accuracy: 0.0000e+00\n",
            "Epoch 156/200\n",
            "85/85 [==============================] - 0s 3ms/step - loss: 2.3341 - accuracy: 0.1361 - val_loss: 2.4756 - val_accuracy: 0.0000e+00\n",
            "Epoch 157/200\n",
            "85/85 [==============================] - 0s 3ms/step - loss: 2.3337 - accuracy: 0.1349 - val_loss: 2.4749 - val_accuracy: 0.0000e+00\n",
            "Epoch 158/200\n",
            "85/85 [==============================] - 0s 3ms/step - loss: 2.3334 - accuracy: 0.1373 - val_loss: 2.4746 - val_accuracy: 0.0000e+00\n",
            "Epoch 159/200\n",
            "85/85 [==============================] - 0s 3ms/step - loss: 2.3332 - accuracy: 0.1373 - val_loss: 2.4761 - val_accuracy: 0.0000e+00\n",
            "Epoch 160/200\n",
            "85/85 [==============================] - 0s 3ms/step - loss: 2.3330 - accuracy: 0.1385 - val_loss: 2.4775 - val_accuracy: 0.0000e+00\n",
            "Epoch 161/200\n",
            "85/85 [==============================] - 0s 3ms/step - loss: 2.3326 - accuracy: 0.1396 - val_loss: 2.4756 - val_accuracy: 0.0000e+00\n",
            "Epoch 162/200\n",
            "85/85 [==============================] - 0s 3ms/step - loss: 2.3324 - accuracy: 0.1396 - val_loss: 2.4767 - val_accuracy: 0.0000e+00\n",
            "Epoch 163/200\n",
            "85/85 [==============================] - 0s 3ms/step - loss: 2.3322 - accuracy: 0.1349 - val_loss: 2.4785 - val_accuracy: 0.0000e+00\n",
            "Epoch 164/200\n",
            "85/85 [==============================] - 0s 3ms/step - loss: 2.3318 - accuracy: 0.1408 - val_loss: 2.4781 - val_accuracy: 0.0000e+00\n",
            "Epoch 165/200\n",
            "85/85 [==============================] - 0s 3ms/step - loss: 2.3315 - accuracy: 0.1396 - val_loss: 2.4780 - val_accuracy: 0.0000e+00\n",
            "Epoch 166/200\n",
            "85/85 [==============================] - 0s 3ms/step - loss: 2.3313 - accuracy: 0.1385 - val_loss: 2.4796 - val_accuracy: 0.0000e+00\n",
            "Epoch 167/200\n",
            "85/85 [==============================] - 0s 3ms/step - loss: 2.3310 - accuracy: 0.1396 - val_loss: 2.4776 - val_accuracy: 0.0000e+00\n",
            "Epoch 168/200\n",
            "85/85 [==============================] - 0s 3ms/step - loss: 2.3308 - accuracy: 0.1408 - val_loss: 2.4799 - val_accuracy: 0.0000e+00\n",
            "Epoch 169/200\n",
            "85/85 [==============================] - 0s 3ms/step - loss: 2.3305 - accuracy: 0.1385 - val_loss: 2.4781 - val_accuracy: 0.0000e+00\n",
            "Epoch 170/200\n",
            "85/85 [==============================] - 0s 3ms/step - loss: 2.3302 - accuracy: 0.1385 - val_loss: 2.4760 - val_accuracy: 0.0000e+00\n",
            "Epoch 171/200\n",
            "85/85 [==============================] - 0s 3ms/step - loss: 2.3299 - accuracy: 0.1396 - val_loss: 2.4775 - val_accuracy: 0.0000e+00\n",
            "Epoch 172/200\n",
            "85/85 [==============================] - 0s 3ms/step - loss: 2.3297 - accuracy: 0.1408 - val_loss: 2.4791 - val_accuracy: 0.0000e+00\n",
            "Epoch 173/200\n",
            "85/85 [==============================] - 0s 3ms/step - loss: 2.3294 - accuracy: 0.1396 - val_loss: 2.4803 - val_accuracy: 0.0000e+00\n",
            "Epoch 174/200\n",
            "85/85 [==============================] - 0s 3ms/step - loss: 2.3291 - accuracy: 0.1420 - val_loss: 2.4808 - val_accuracy: 0.0000e+00\n",
            "Epoch 175/200\n",
            "85/85 [==============================] - 0s 3ms/step - loss: 2.3287 - accuracy: 0.1408 - val_loss: 2.4833 - val_accuracy: 0.0000e+00\n",
            "Epoch 176/200\n",
            "85/85 [==============================] - 0s 3ms/step - loss: 2.3286 - accuracy: 0.1420 - val_loss: 2.4794 - val_accuracy: 0.0000e+00\n",
            "Epoch 177/200\n",
            "85/85 [==============================] - 0s 3ms/step - loss: 2.3284 - accuracy: 0.1420 - val_loss: 2.4835 - val_accuracy: 0.0000e+00\n",
            "Epoch 178/200\n",
            "85/85 [==============================] - 0s 3ms/step - loss: 2.3280 - accuracy: 0.1420 - val_loss: 2.4815 - val_accuracy: 0.0000e+00\n",
            "Epoch 179/200\n",
            "85/85 [==============================] - 0s 3ms/step - loss: 2.3277 - accuracy: 0.1444 - val_loss: 2.4795 - val_accuracy: 0.0000e+00\n",
            "Epoch 180/200\n",
            "85/85 [==============================] - 0s 3ms/step - loss: 2.3274 - accuracy: 0.1456 - val_loss: 2.4821 - val_accuracy: 0.0000e+00\n",
            "Epoch 181/200\n",
            "85/85 [==============================] - 0s 3ms/step - loss: 2.3272 - accuracy: 0.1432 - val_loss: 2.4819 - val_accuracy: 0.0000e+00\n",
            "Epoch 182/200\n",
            "85/85 [==============================] - 0s 3ms/step - loss: 2.3270 - accuracy: 0.1444 - val_loss: 2.4860 - val_accuracy: 0.0000e+00\n",
            "Epoch 183/200\n",
            "85/85 [==============================] - 0s 3ms/step - loss: 2.3265 - accuracy: 0.1432 - val_loss: 2.4834 - val_accuracy: 0.0000e+00\n",
            "Epoch 184/200\n",
            "85/85 [==============================] - 0s 3ms/step - loss: 2.3264 - accuracy: 0.1444 - val_loss: 2.4841 - val_accuracy: 0.0000e+00\n",
            "Epoch 185/200\n",
            "85/85 [==============================] - 0s 3ms/step - loss: 2.3261 - accuracy: 0.1456 - val_loss: 2.4848 - val_accuracy: 0.0000e+00\n",
            "Epoch 186/200\n",
            "85/85 [==============================] - 0s 3ms/step - loss: 2.3257 - accuracy: 0.1456 - val_loss: 2.4866 - val_accuracy: 0.0000e+00\n",
            "Epoch 187/200\n",
            "85/85 [==============================] - 0s 3ms/step - loss: 2.3257 - accuracy: 0.1456 - val_loss: 2.4843 - val_accuracy: 0.0000e+00\n",
            "Epoch 188/200\n",
            "85/85 [==============================] - 0s 3ms/step - loss: 2.3251 - accuracy: 0.1432 - val_loss: 2.4877 - val_accuracy: 0.0000e+00\n",
            "Epoch 189/200\n",
            "85/85 [==============================] - 0s 3ms/step - loss: 2.3250 - accuracy: 0.1467 - val_loss: 2.4864 - val_accuracy: 0.0000e+00\n",
            "Epoch 190/200\n",
            "85/85 [==============================] - 0s 3ms/step - loss: 2.3247 - accuracy: 0.1444 - val_loss: 2.4861 - val_accuracy: 0.0000e+00\n",
            "Epoch 191/200\n",
            "85/85 [==============================] - 0s 3ms/step - loss: 2.3245 - accuracy: 0.1467 - val_loss: 2.4861 - val_accuracy: 0.0000e+00\n",
            "Epoch 192/200\n",
            "85/85 [==============================] - 0s 3ms/step - loss: 2.3241 - accuracy: 0.1467 - val_loss: 2.4880 - val_accuracy: 0.0000e+00\n",
            "Epoch 193/200\n",
            "85/85 [==============================] - 0s 3ms/step - loss: 2.3238 - accuracy: 0.1467 - val_loss: 2.4862 - val_accuracy: 0.0000e+00\n",
            "Epoch 194/200\n",
            "85/85 [==============================] - 0s 3ms/step - loss: 2.3237 - accuracy: 0.1467 - val_loss: 2.4878 - val_accuracy: 0.0000e+00\n",
            "Epoch 195/200\n",
            "85/85 [==============================] - 0s 3ms/step - loss: 2.3234 - accuracy: 0.1491 - val_loss: 2.4870 - val_accuracy: 0.0000e+00\n",
            "Epoch 196/200\n",
            "85/85 [==============================] - 0s 3ms/step - loss: 2.3230 - accuracy: 0.1491 - val_loss: 2.4868 - val_accuracy: 0.0000e+00\n",
            "Epoch 197/200\n",
            "85/85 [==============================] - 0s 3ms/step - loss: 2.3228 - accuracy: 0.1479 - val_loss: 2.4888 - val_accuracy: 0.0000e+00\n",
            "Epoch 198/200\n",
            "85/85 [==============================] - 0s 3ms/step - loss: 2.3224 - accuracy: 0.1479 - val_loss: 2.4904 - val_accuracy: 0.0000e+00\n",
            "Epoch 199/200\n",
            "85/85 [==============================] - 0s 3ms/step - loss: 2.3222 - accuracy: 0.1491 - val_loss: 2.4917 - val_accuracy: 0.0000e+00\n",
            "Epoch 200/200\n",
            "85/85 [==============================] - 0s 3ms/step - loss: 2.3223 - accuracy: 0.1491 - val_loss: 2.4921 - val_accuracy: 0.0000e+00\n"
          ],
          "name": "stdout"
        }
      ]
    },
    {
      "cell_type": "code",
      "metadata": {
        "id": "Y7z08KlhUbGn",
        "outputId": "bc12d180-067f-4052-e715-7f11063b9854",
        "colab": {
          "base_uri": "https://localhost:8080/",
          "height": 35
        }
      },
      "source": [
        "history.history.keys()"
      ],
      "execution_count": null,
      "outputs": [
        {
          "output_type": "execute_result",
          "data": {
            "text/plain": [
              "dict_keys(['loss', 'accuracy', 'val_loss', 'val_accuracy'])"
            ]
          },
          "metadata": {
            "tags": []
          },
          "execution_count": 137
        }
      ]
    },
    {
      "cell_type": "code",
      "metadata": {
        "id": "eLomE0e7Xw_y",
        "outputId": "713aaac6-59cb-47dc-8843-54e12e89da35",
        "colab": {
          "base_uri": "https://localhost:8080/",
          "height": 283
        }
      },
      "source": [
        "hist_df = pd.DataFrame(history.history)\n",
        "hist_df[['loss','val_loss']].plot()"
      ],
      "execution_count": null,
      "outputs": [
        {
          "output_type": "execute_result",
          "data": {
            "text/plain": [
              "<matplotlib.axes._subplots.AxesSubplot at 0x7fdc5e55c908>"
            ]
          },
          "metadata": {
            "tags": []
          },
          "execution_count": 138
        },
        {
          "output_type": "display_data",
          "data": {
            "image/png": "[encoded data removed]",
            "text/plain": [
              "<Figure size 432x288 with 1 Axes>"
            ]
          },
          "metadata": {
            "tags": [],
            "needs_background": "light"
          }
        }
      ]
    },
    {
      "cell_type": "code",
      "metadata": {
        "id": "0m-Hy7G9YONm"
      },
      "source": [
        ""
      ],
      "execution_count": null,
      "outputs": []
    }
  ]
}